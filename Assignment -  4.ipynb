{
 "cells": [
  {
   "cell_type": "code",
   "execution_count": null,
   "metadata": {},
   "outputs": [],
   "source": [
    "\"\"\"create a txt file, enter multiple lines of text. read this file line by line and store\n",
    "it into a list. Apply exception handling technique\"\"\"\n"
   ]
  },
  {
   "cell_type": "code",
   "execution_count": 1,
   "metadata": {},
   "outputs": [
    {
     "name": "stdout",
     "output_type": "stream",
     "text": [
      "Overwriting testfile.txt\n"
     ]
    }
   ],
   "source": [
    "%%writefile testfile.txt\n",
    "iam line 1\n",
    "iam line 2\n",
    "iam line 3"
   ]
  },
  {
   "cell_type": "code",
   "execution_count": 2,
   "metadata": {},
   "outputs": [
    {
     "name": "stdout",
     "output_type": "stream",
     "text": [
      "['iam line 1\\n', 'iam line 2\\n', 'iam line 3\\n']\n"
     ]
    }
   ],
   "source": [
    "op=open(\"testfile.txt\")\n",
    "op.seek(0)\n",
    "lst=list(op.readlines())\n",
    "print(lst)"
   ]
  },
  {
   "cell_type": "code",
   "execution_count": 3,
   "metadata": {},
   "outputs": [
    {
     "name": "stdout",
     "output_type": "stream",
     "text": [
      "Error: not writable\n"
     ]
    }
   ],
   "source": [
    "try:\n",
    "    op1=open(\"testfile.txt\")\n",
    "    op1.write(\"line\")\n",
    "    \n",
    "except Exception as error:\n",
    "    print(\"Error:\",error)"
   ]
  },
  {
   "cell_type": "code",
   "execution_count": null,
   "metadata": {},
   "outputs": [],
   "source": [
    "\"\"\"Write a Python program to write below list content to a file. Apply exception\n",
    "handling technique\"\"\"\n",
    "\n"
   ]
  },
  {
   "cell_type": "code",
   "execution_count": 6,
   "metadata": {},
   "outputs": [
    {
     "name": "stdout",
     "output_type": "stream",
     "text": [
      "not in list\n"
     ]
    }
   ],
   "source": [
    "color = ['Red', 'Green', 'White', 'Black', 'Pink', 'Yellow']\n",
    "clr=open(\"colors.txt\",'w')\n",
    "for i in color:\n",
    "    clr.write(i+\"\\n\")\n",
    "    \n",
    "try:\n",
    "    op1=open(\"colors.txt\")\n",
    "    lst1=op1.readlines()\n",
    "    print(lst1[6])\n",
    "except:\n",
    "    print(\"not in list\")"
   ]
  },
  {
   "cell_type": "code",
   "execution_count": null,
   "metadata": {},
   "outputs": [],
   "source": [
    "\"\"\" create a txt file, enter multiple lines of text. remove newline characters from\n",
    "created file and print as a list. Apply exception handling techniques wherever\n",
    "possibl\"\"\""
   ]
  },
  {
   "cell_type": "code",
   "execution_count": 7,
   "metadata": {},
   "outputs": [
    {
     "name": "stdout",
     "output_type": "stream",
     "text": [
      "Overwriting remove.txt\n"
     ]
    }
   ],
   "source": [
    "%%writefile remove.txt\n",
    "line1\n",
    "line2\n",
    "line3"
   ]
  },
  {
   "cell_type": "code",
   "execution_count": 8,
   "metadata": {},
   "outputs": [
    {
     "name": "stdout",
     "output_type": "stream",
     "text": [
      "['line1']\n",
      "['line1', 'line2']\n",
      "['line1', 'line2', 'line3']\n"
     ]
    }
   ],
   "source": [
    "try:\n",
    "    op=open(\"remove.txt\")\n",
    "    op.seek(0)\n",
    "    lst1=list(op.readlines())\n",
    "    lst2=[]\n",
    "    for i in lst1:\n",
    "        lst2.append(i.rstrip())\n",
    "        print(lst2)\n",
    "except IndexError as error:\n",
    "    print(\"error in try\")"
   ]
  },
  {
   "cell_type": "code",
   "execution_count": null,
   "metadata": {},
   "outputs": [],
   "source": [
    "\"\"\" create a testfile1.txt file, enter multiple lines of text . Now copy contents of\n",
    "testfile1.txt to new file testfile22.txt. Apply exception handling techniques\n",
    "wherever possible\"\"\""
   ]
  },
  {
   "cell_type": "code",
   "execution_count": 9,
   "metadata": {},
   "outputs": [
    {
     "name": "stdout",
     "output_type": "stream",
     "text": [
      "Overwriting testfile1.txt\n"
     ]
    }
   ],
   "source": [
    "%%writefile testfile1.txt\n",
    "line1 \n",
    "line2\n",
    "line3"
   ]
  },
  {
   "cell_type": "code",
   "execution_count": 10,
   "metadata": {},
   "outputs": [
    {
     "name": "stderr",
     "output_type": "stream",
     "text": [
      "UsageError: %%writefile is a cell magic, but the cell body is empty.\n"
     ]
    }
   ],
   "source": [
    "%%writefile testfile2.txt"
   ]
  },
  {
   "cell_type": "code",
   "execution_count": 11,
   "metadata": {},
   "outputs": [
    {
     "name": "stdout",
     "output_type": "stream",
     "text": [
      "['line1 \\n', 'line2\\n', 'line3\\n']\n"
     ]
    }
   ],
   "source": [
    "try:\n",
    "    op=open(\"testfile1.txt\")\n",
    "    p=open(\"testfile2.txt\",'w')\n",
    "    op.seek(0)\n",
    "    list1=op.readlines()\n",
    "    p.write(str(list1))\n",
    "    print(list1)\n",
    "    \n",
    "except IndexError as error:\n",
    "    print(\"Error in Try\")"
   ]
  }
 ],
 "metadata": {
  "kernelspec": {
   "display_name": "Python 3",
   "language": "python",
   "name": "python3"
  },
  "language_info": {
   "codemirror_mode": {
    "name": "ipython",
    "version": 3
   },
   "file_extension": ".py",
   "mimetype": "text/x-python",
   "name": "python",
   "nbconvert_exporter": "python",
   "pygments_lexer": "ipython3",
   "version": "3.8.3"
  }
 },
 "nbformat": 4,
 "nbformat_minor": 4
}
